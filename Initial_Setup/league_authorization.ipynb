{
 "cells": [
  {
   "cell_type": "code",
   "execution_count": 2,
   "metadata": {
    "vscode": {
     "languageId": "powershell"
    }
   },
   "outputs": [
    {
     "name": "stdout",
     "output_type": "stream",
     "text": [
      "Collecting pandas\n",
      "  Downloading pandas-2.3.1-cp311-cp311-win_amd64.whl.metadata (19 kB)\n",
      "Collecting yahoo_oauth\n",
      "  Downloading yahoo_oauth-2.1.1-py3-none-any.whl.metadata (4.1 kB)\n",
      "Collecting numpy>=1.23.2 (from pandas)\n",
      "  Downloading numpy-2.3.1-cp311-cp311-win_amd64.whl.metadata (60 kB)\n",
      "     ---------------------------------------- 0.0/60.9 kB ? eta -:--:--\n",
      "     ------------------- ------------------ 30.7/60.9 kB 660.6 kB/s eta 0:00:01\n",
      "     -------------------------------------- 60.9/60.9 kB 816.8 kB/s eta 0:00:00\n",
      "Requirement already satisfied: python-dateutil>=2.8.2 in c:\\users\\aidan\\appdata\\local\\packages\\pythonsoftwarefoundation.python.3.11_qbz5n2kfra8p0\\localcache\\local-packages\\python311\\site-packages (from pandas) (2.9.0.post0)\n",
      "Collecting pytz>=2020.1 (from pandas)\n",
      "  Using cached pytz-2025.2-py2.py3-none-any.whl.metadata (22 kB)\n",
      "Collecting tzdata>=2022.7 (from pandas)\n",
      "  Using cached tzdata-2025.2-py2.py3-none-any.whl.metadata (1.4 kB)\n",
      "Collecting myql<2.0.0,>=1.2.7 (from yahoo_oauth)\n",
      "  Using cached myql-1.2.7-py3-none-any.whl\n",
      "Collecting pyaml<25.0.0,>=24.4.0 (from yahoo_oauth)\n",
      "  Using cached pyaml-24.12.1-py3-none-any.whl.metadata (12 kB)\n",
      "Collecting rauth<0.8.0,>=0.7.3 (from yahoo_oauth)\n",
      "  Using cached rauth-0.7.3-py3-none-any.whl\n",
      "Collecting oauthlib>=0.7.2 (from myql<2.0.0,>=1.2.7->yahoo_oauth)\n",
      "  Using cached oauthlib-3.3.1-py3-none-any.whl.metadata (7.9 kB)\n",
      "Collecting requests-oauthlib>=0.4.2 (from myql<2.0.0,>=1.2.7->yahoo_oauth)\n",
      "  Using cached requests_oauthlib-2.0.0-py2.py3-none-any.whl.metadata (11 kB)\n",
      "Collecting requests>=2.7.0 (from myql<2.0.0,>=1.2.7->yahoo_oauth)\n",
      "  Using cached requests-2.32.4-py3-none-any.whl.metadata (4.9 kB)\n",
      "Requirement already satisfied: six>=1.9.0 in c:\\users\\aidan\\appdata\\local\\packages\\pythonsoftwarefoundation.python.3.11_qbz5n2kfra8p0\\localcache\\local-packages\\python311\\site-packages (from myql<2.0.0,>=1.2.7->yahoo_oauth) (1.17.0)\n",
      "Collecting PyYAML (from pyaml<25.0.0,>=24.4.0->yahoo_oauth)\n",
      "  Using cached PyYAML-6.0.2-cp311-cp311-win_amd64.whl.metadata (2.1 kB)\n",
      "Collecting charset_normalizer<4,>=2 (from requests>=2.7.0->myql<2.0.0,>=1.2.7->yahoo_oauth)\n",
      "  Using cached charset_normalizer-3.4.2-cp311-cp311-win_amd64.whl.metadata (36 kB)\n",
      "Collecting idna<4,>=2.5 (from requests>=2.7.0->myql<2.0.0,>=1.2.7->yahoo_oauth)\n",
      "  Using cached idna-3.10-py3-none-any.whl.metadata (10 kB)\n",
      "Collecting urllib3<3,>=1.21.1 (from requests>=2.7.0->myql<2.0.0,>=1.2.7->yahoo_oauth)\n",
      "  Using cached urllib3-2.5.0-py3-none-any.whl.metadata (6.5 kB)\n",
      "Collecting certifi>=2017.4.17 (from requests>=2.7.0->myql<2.0.0,>=1.2.7->yahoo_oauth)\n",
      "  Using cached certifi-2025.7.9-py3-none-any.whl.metadata (2.4 kB)\n",
      "Downloading pandas-2.3.1-cp311-cp311-win_amd64.whl (11.3 MB)\n",
      "   ---------------------------------------- 0.0/11.3 MB ? eta -:--:--\n",
      "    --------------------------------------- 0.1/11.3 MB 4.3 MB/s eta 0:00:03\n",
      "   - -------------------------------------- 0.6/11.3 MB 7.0 MB/s eta 0:00:02\n",
      "   ---- ----------------------------------- 1.3/11.3 MB 10.6 MB/s eta 0:00:01\n",
      "   -------- ------------------------------- 2.5/11.3 MB 14.8 MB/s eta 0:00:01\n",
      "   ------------ --------------------------- 3.6/11.3 MB 16.3 MB/s eta 0:00:01\n",
      "   ----------------- ---------------------- 4.8/11.3 MB 18.2 MB/s eta 0:00:01\n",
      "   ------------------- -------------------- 5.6/11.3 MB 18.9 MB/s eta 0:00:01\n",
      "   ----------------------- ---------------- 6.7/11.3 MB 18.7 MB/s eta 0:00:01\n",
      "   ---------------------------- ----------- 8.0/11.3 MB 19.7 MB/s eta 0:00:01\n",
      "   --------------------------------- ------ 9.5/11.3 MB 20.1 MB/s eta 0:00:01\n",
      "   ------------------------------------- -- 10.6/11.3 MB 22.5 MB/s eta 0:00:01\n",
      "   ---------------------------------------  11.3/11.3 MB 23.4 MB/s eta 0:00:01\n",
      "   ---------------------------------------- 11.3/11.3 MB 22.6 MB/s eta 0:00:00\n",
      "Downloading yahoo_oauth-2.1.1-py3-none-any.whl (6.5 kB)\n",
      "Downloading numpy-2.3.1-cp311-cp311-win_amd64.whl (13.0 MB)\n",
      "   ---------------------------------------- 0.0/13.0 MB ? eta -:--:--\n",
      "   --- ------------------------------------ 1.2/13.0 MB 37.7 MB/s eta 0:00:01\n",
      "   ------- -------------------------------- 2.5/13.0 MB 31.5 MB/s eta 0:00:01\n",
      "   ---------- ----------------------------- 3.3/13.0 MB 26.1 MB/s eta 0:00:01\n",
      "   --------------- ------------------------ 5.2/13.0 MB 30.0 MB/s eta 0:00:01\n",
      "   ---------------------- ----------------- 7.2/13.0 MB 32.9 MB/s eta 0:00:01\n",
      "   ----------------------- ---------------- 7.7/13.0 MB 30.8 MB/s eta 0:00:01\n",
      "   ----------------------- ---------------- 7.7/13.0 MB 30.8 MB/s eta 0:00:01\n",
      "   ----------------------- ---------------- 7.7/13.0 MB 30.8 MB/s eta 0:00:01\n",
      "   ------------------------------ --------- 10.0/13.0 MB 23.7 MB/s eta 0:00:01\n",
      "   ---------------------------------------  13.0/13.0 MB 28.5 MB/s eta 0:00:01\n",
      "   ---------------------------------------- 13.0/13.0 MB 26.2 MB/s eta 0:00:00\n",
      "Using cached pyaml-24.12.1-py3-none-any.whl (25 kB)\n",
      "Using cached pytz-2025.2-py2.py3-none-any.whl (509 kB)\n",
      "Using cached tzdata-2025.2-py2.py3-none-any.whl (347 kB)\n",
      "Using cached oauthlib-3.3.1-py3-none-any.whl (160 kB)\n",
      "Using cached requests-2.32.4-py3-none-any.whl (64 kB)\n",
      "Using cached requests_oauthlib-2.0.0-py2.py3-none-any.whl (24 kB)\n",
      "Using cached PyYAML-6.0.2-cp311-cp311-win_amd64.whl (161 kB)\n",
      "Using cached certifi-2025.7.9-py3-none-any.whl (159 kB)\n",
      "Using cached charset_normalizer-3.4.2-cp311-cp311-win_amd64.whl (105 kB)\n",
      "Using cached idna-3.10-py3-none-any.whl (70 kB)\n",
      "Using cached urllib3-2.5.0-py3-none-any.whl (129 kB)\n",
      "Installing collected packages: pytz, urllib3, tzdata, PyYAML, oauthlib, numpy, idna, charset_normalizer, certifi, requests, pyaml, pandas, requests-oauthlib, rauth, myql, yahoo_oauth\n",
      "Successfully installed PyYAML-6.0.2 certifi-2025.7.9 charset_normalizer-3.4.2 idna-3.10 myql-1.2.7 numpy-2.3.1 oauthlib-3.3.1 pandas-2.3.1 pyaml-24.12.1 pytz-2025.2 rauth-0.7.3 requests-2.32.4 requests-oauthlib-2.0.0 tzdata-2025.2 urllib3-2.5.0 yahoo_oauth-2.1.1\n",
      "Note: you may need to restart the kernel to use updated packages.\n"
     ]
    },
    {
     "name": "stderr",
     "output_type": "stream",
     "text": [
      "\n",
      "[notice] A new release of pip is available: 24.0 -> 25.1.1\n",
      "[notice] To update, run: C:\\Users\\aidan\\AppData\\Local\\Microsoft\\WindowsApps\\PythonSoftwareFoundation.Python.3.11_qbz5n2kfra8p0\\python.exe -m pip install --upgrade pip\n"
     ]
    }
   ],
   "source": [
    "pip install pandas yahoo_oauth"
   ]
  },
  {
   "cell_type": "code",
   "execution_count": 8,
   "metadata": {},
   "outputs": [
    {
     "name": "stderr",
     "output_type": "stream",
     "text": [
      "[2025-07-11 16:13:31,245 DEBUG] [yahoo_oauth.oauth.__init__] Checking \n",
      "[2025-07-11 16:13:31,247 DEBUG] [yahoo_oauth.oauth.token_is_valid] ELAPSED TIME : 7875.709928750992\n",
      "[2025-07-11 16:13:31,247 DEBUG] [yahoo_oauth.oauth.token_is_valid] TOKEN HAS EXPIRED\n",
      "[2025-07-11 16:13:31,247 DEBUG] [yahoo_oauth.oauth.refresh_access_token] REFRESHING TOKEN\n",
      "[2025-07-11 16:13:31,411 DEBUG] [yahoo_oauth.oauth.token_is_valid] ELAPSED TIME : 0.16214776039123535\n",
      "[2025-07-11 16:13:31,411 DEBUG] [yahoo_oauth.oauth.token_is_valid] TOKEN IS STILL VALID\n"
     ]
    },
    {
     "name": "stdout",
     "output_type": "stream",
     "text": [
      "Authorization Complete\n"
     ]
    }
   ],
   "source": [
    "import pandas as pd\n",
    "from yahoo_oauth import OAuth2\n",
    "import logging\n",
    "#oauth_logger = logging.getLogger('yahoo_oauth')\n",
    "#oauth_logger.disabled = True\n",
    "import json\n",
    "from json import dumps\n",
    "import datetime\n",
    "\n",
    "\n",
    "class Yahoo_Api():\n",
    "    def __init__(self, \n",
    "                 consumer_key, \n",
    "\n",
    "                 consumer_secret#,\n",
    "                #access_token\n",
    "                ):\n",
    "        self._consumer_key = consumer_key\n",
    "        self._consumer_secret = consumer_secret\n",
    "        #self._access_token = access_token\n",
    "        self._authorization = None\n",
    "    def _login(self):\n",
    "        global oauth\n",
    "        oauth = OAuth2(None, None, from_file='../auth/oauth2yahoo.json')\n",
    "        if not oauth.token_is_valid():\n",
    "            oauth.refresh_access_token()\n",
    "\n",
    "class Authorize():\n",
    "\n",
    "    def AuthorizeLeague(self):\n",
    "        # UPDATE LEAGUE GAME ID\n",
    "        yahoo_api._login()\n",
    "        url = 'https://fantasysports.yahooapis.com/fantasy/v2/league/380.l.6288/transactions'\n",
    "        response = oauth.session.get(url, params={'format': 'json'})\n",
    "        r = response.json()\n",
    "        #with open('YahooGameInfo.json', 'w') as outfile:\n",
    "            #json.dump(r, outfile)\n",
    "            #return;\n",
    "def main():\n",
    "##### Get Yahoo Auth ####\n",
    "\n",
    "    # Yahoo Keys\n",
    "    with open('../auth/oauth2yahoo.json') as json_yahoo_file:\n",
    "        auths = json.load(json_yahoo_file)\n",
    "    yahoo_consumer_key = auths['consumer_key']\n",
    "    yahoo_consumer_secret = auths['consumer_secret']\n",
    "    #yahoo_access_token = auths['access_token']\n",
    "    #yahoo_access_secret = auths['access_token_secret']\n",
    "    json_yahoo_file.close()\n",
    "\n",
    "#### Declare Yahoo Variable ####\n",
    "\n",
    "    global yahoo_api\n",
    "    yahoo_api = Yahoo_Api(yahoo_consumer_key,\n",
    "                            yahoo_consumer_secret,\n",
    "                            #yahoo_access_token,\n",
    "                            #yahoo_access_secret)\n",
    "                                )\n",
    "#### Where the magic happen ####\n",
    "    bot = Bot(yahoo_api)\n",
    "    bot.run()\n",
    "\n",
    "class Bot():\n",
    "    def __init__(self, yahoo_api):\n",
    "\n",
    "        self._yahoo_api = yahoo_api\n",
    "\n",
    "    def run(self):\n",
    "        # Data Updates\n",
    "        at = Authorize()\n",
    "        at.AuthorizeLeague()\n",
    "        print('Authorization Complete')\n",
    "\n",
    "if __name__ == \"__main__\":\n",
    "    main()\n"
   ]
  },
  {
   "cell_type": "code",
   "execution_count": null,
   "metadata": {
    "vscode": {
     "languageId": "perl"
    }
   },
   "outputs": [
    {
     "ename": "FileNotFoundError",
     "evalue": "[Errno 2] No such file or directory: './Initial_Setup/league_info_form.txt'",
     "output_type": "error",
     "traceback": [
      "\u001b[31m---------------------------------------------------------------------------\u001b[39m",
      "\u001b[31mFileNotFoundError\u001b[39m                         Traceback (most recent call last)",
      "\u001b[36mFile \u001b[39m\u001b[32mF:\\Github_Repos\\Football_The_Data_Way\\fantasy_stats.py:307\u001b[39m\n\u001b[32m    304\u001b[39m         \u001b[38;5;28mprint\u001b[39m(\u001b[33m'\u001b[39m\u001b[33mUpdate Complete\u001b[39m\u001b[33m'\u001b[39m)\n\u001b[32m    306\u001b[39m \u001b[38;5;28;01mif\u001b[39;00m \u001b[34m__name__\u001b[39m == \u001b[33m\"\u001b[39m\u001b[33m__main__\u001b[39m\u001b[33m\"\u001b[39m:\n\u001b[32m--> \u001b[39m\u001b[32m307\u001b[39m     \u001b[43mmain\u001b[49m\u001b[43m(\u001b[49m\u001b[43m)\u001b[49m\n\u001b[32m    309\u001b[39m     \u001b[38;5;28;01mtry\u001b[39;00m:\n\u001b[32m    310\u001b[39m         \u001b[38;5;28;01mpass\u001b[39;00m\n",
      "\u001b[36mFile \u001b[39m\u001b[32mF:\\Github_Repos\\Football_The_Data_Way\\fantasy_stats.py:261\u001b[39m, in \u001b[36mmain\u001b[39m\u001b[34m()\u001b[39m\n\u001b[32m    258\u001b[39m \u001b[38;5;28;01mglobal\u001b[39;00m current_week\n\u001b[32m    259\u001b[39m current_week = CurrentWeek()\n\u001b[32m--> \u001b[39m\u001b[32m261\u001b[39m \u001b[38;5;28;01mwith\u001b[39;00m \u001b[38;5;28;43mopen\u001b[39;49m\u001b[43m(\u001b[49m\u001b[33;43m'\u001b[39;49m\u001b[33;43m./Initial_Setup/league_info_form.txt\u001b[39;49m\u001b[33;43m'\u001b[39;49m\u001b[43m,\u001b[49m\u001b[43m \u001b[49m\u001b[33;43m'\u001b[39;49m\u001b[33;43mr\u001b[39;49m\u001b[33;43m'\u001b[39;49m\u001b[43m)\u001b[49m \u001b[38;5;28;01mas\u001b[39;00m f:\n\u001b[32m    262\u001b[39m     rosters = \u001b[38;5;28meval\u001b[39m(f.read())\n\u001b[32m    264\u001b[39m \u001b[38;5;28;01mglobal\u001b[39;00m num_teams\n",
      "\u001b[31mFileNotFoundError\u001b[39m: [Errno 2] No such file or directory: './Initial_Setup/league_info_form.txt'"
     ]
    }
   ],
   "source": []
  },
  {
   "cell_type": "markdown",
   "metadata": {},
   "source": []
  }
 ],
 "metadata": {
  "kernelspec": {
   "display_name": "Python 3",
   "language": "python",
   "name": "python3"
  },
  "language_info": {
   "codemirror_mode": {
    "name": "ipython",
    "version": 3
   },
   "file_extension": ".py",
   "mimetype": "text/x-python",
   "name": "python",
   "nbconvert_exporter": "python",
   "pygments_lexer": "ipython3",
   "version": "3.11.9"
  }
 },
 "nbformat": 4,
 "nbformat_minor": 2
}
