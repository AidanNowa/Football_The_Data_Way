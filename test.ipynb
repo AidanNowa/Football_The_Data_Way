{
 "cells": [
  {
   "cell_type": "code",
   "execution_count": 1,
   "id": "abd0d767",
   "metadata": {
    "vscode": {
     "languageId": "powershell"
    }
   },
   "outputs": [],
   "source": [
    "#pip install nfl_data_py"
   ]
  },
  {
   "cell_type": "code",
   "execution_count": 2,
   "id": "58045220",
   "metadata": {},
   "outputs": [],
   "source": [
    "import nfl_data_py as nfl"
   ]
  },
  {
   "cell_type": "code",
   "execution_count": null,
   "id": "5d63f9e0",
   "metadata": {},
   "outputs": [
    {
     "name": "stdout",
     "output_type": "stream",
     "text": [
      "2022 done.\n",
      "Downcasting floats.\n"
     ]
    }
   ],
   "source": [
    "pbp = nfl.import_pbp_data([2024])\n"
   ]
  },
  {
   "cell_type": "code",
   "execution_count": 6,
   "id": "8024791f",
   "metadata": {},
   "outputs": [
    {
     "name": "stdout",
     "output_type": "stream",
     "text": [
      "Index(['play_id', 'game_id', 'old_game_id_x', 'home_team', 'away_team',\n",
      "       'season_type', 'week', 'posteam', 'posteam_type', 'defteam',\n",
      "       ...\n",
      "       'offense_players', 'defense_players', 'n_offense', 'n_defense',\n",
      "       'ngs_air_yards', 'time_to_throw', 'was_pressure', 'route',\n",
      "       'defense_man_zone_type', 'defense_coverage_type'],\n",
      "      dtype='object', length=391)\n"
     ]
    }
   ],
   "source": [
    "pbp_rp = pbp[(pbp['pass'] == 1) | (pbp['rush'] == 1) | (pbp['season_type'] == 'REG')]\n",
    "\n",
    "# Drop nans\n",
    "pbp_rp_dropna = pbp_rp.dropna(subset=['yards_gained', 'posteam', 'defteam'])\n",
    "print(pbp_rp_dropna.columns)\n",
    "\n",
    "# Sum up the passing yards for each team\n",
    "pass_total = pbp_rp_dropna[(pbp_rp_dropna['pass'] == 1)].groupby('posteam')['yards_gained'].sum().reset_index()"
   ]
  },
  {
   "cell_type": "code",
   "execution_count": 18,
   "id": "aabfe5bc",
   "metadata": {},
   "outputs": [
    {
     "name": "stdout",
     "output_type": "stream",
     "text": [
      "      season season_type  week player_display_name player_position team_abbr  \\\n",
      "0       2016         REG     0       David Johnson              RB       ARI   \n",
      "1       2016         REG     0     Latavius Murray              RB        LV   \n",
      "2       2016         REG     0    Jonathan Stewart              RB       CAR   \n",
      "3       2016         REG     0        LeSean McCoy              RB       BUF   \n",
      "4       2016         REG     0         Doug Martin              RB        TB   \n",
      "...      ...         ...   ...                 ...             ...       ...   \n",
      "5406    2024        POST    21      Brian Robinson              RB       WAS   \n",
      "5407    2024        POST    21         Kareem Hunt              RB        KC   \n",
      "5408    2024        POST    21          James Cook              RB       BUF   \n",
      "5409    2024        POST    21      Saquon Barkley              RB       PHI   \n",
      "5410    2024        POST    23      Saquon Barkley              RB       PHI   \n",
      "\n",
      "      efficiency  percent_attempts_gte_eight_defenders  avg_time_to_los  \\\n",
      "0       3.869201                             25.597270         2.637508   \n",
      "1       3.913071                             45.641026         2.589171   \n",
      "2       4.379927                             38.073394         2.834390   \n",
      "3       3.957640                             26.923077         3.003444   \n",
      "4       5.171639                             33.333333         2.840165   \n",
      "...          ...                                   ...              ...   \n",
      "5406    4.083333                              0.000000         2.563818   \n",
      "5407    3.638594                             11.764706         2.834563   \n",
      "5408    2.805882                             46.153846         2.643615   \n",
      "5409    2.827627                             33.333333         3.067846   \n",
      "5410    6.447018                              8.000000         2.848600   \n",
      "\n",
      "      rush_attempts  ...  rush_touchdowns  player_gsis_id  player_first_name  \\\n",
      "0               293  ...               16      00-0032187              David   \n",
      "1               195  ...               12      00-0030513           Latavius   \n",
      "2               218  ...                9      00-0026153           Jonathan   \n",
      "3               234  ...               13      00-0027029             LeSean   \n",
      "4               144  ...                3      00-0029613            Douglas   \n",
      "...             ...  ...              ...             ...                ...   \n",
      "5406             11  ...                0      00-0037746              Brian   \n",
      "5407             17  ...                1      00-0033923             Kareem   \n",
      "5408             13  ...                2      00-0037248              James   \n",
      "5409             15  ...                3      00-0034844             Saquon   \n",
      "5410             25  ...                0      00-0034844             Saquon   \n",
      "\n",
      "     player_last_name player_jersey_number player_short_name  \\\n",
      "0             Johnson                   31         D.Johnson   \n",
      "1              Murray                   28          L.Murray   \n",
      "2             Stewart                   28         J.Stewart   \n",
      "3               McCoy                   25           L.McCoy   \n",
      "4              Martin                   22              None   \n",
      "...               ...                  ...               ...   \n",
      "5406         Robinson                    8        B.Robinson   \n",
      "5407             Hunt                   29            K.Hunt   \n",
      "5408             Cook                    4            J.Cook   \n",
      "5409          Barkley                   26         S.Barkley   \n",
      "5410          Barkley                   26         S.Barkley   \n",
      "\n",
      "      expected_rush_yards rush_yards_over_expected  \\\n",
      "0                     NaN                      NaN   \n",
      "1                     NaN                      NaN   \n",
      "2                     NaN                      NaN   \n",
      "3                     NaN                      NaN   \n",
      "4                     NaN                      NaN   \n",
      "...                   ...                      ...   \n",
      "5406            53.323323               -17.323323   \n",
      "5407            72.910294                -8.910294   \n",
      "5408            44.600986                36.399014   \n",
      "5409            45.716925                72.283075   \n",
      "5410           105.029042               -48.029042   \n",
      "\n",
      "      rush_yards_over_expected_per_att  rush_pct_over_expected  \n",
      "0                                  NaN                     NaN  \n",
      "1                                  NaN                     NaN  \n",
      "2                                  NaN                     NaN  \n",
      "3                                  NaN                     NaN  \n",
      "4                                  NaN                     NaN  \n",
      "...                                ...                     ...  \n",
      "5406                         -1.574848                0.272727  \n",
      "5407                         -0.524135                0.411765  \n",
      "5408                          3.033251                0.583333  \n",
      "5409                          4.818872                0.600000  \n",
      "5410                         -1.921162                0.200000  \n",
      "\n",
      "[5411 rows x 22 columns]\n"
     ]
    }
   ],
   "source": [
    "df = nfl.import_ngs_data('rushing')\n",
    "print(df)"
   ]
  },
  {
   "cell_type": "code",
   "execution_count": 19,
   "id": "7f9a50e7",
   "metadata": {},
   "outputs": [
    {
     "name": "stdout",
     "output_type": "stream",
     "text": [
      "Downcasting floats.\n"
     ]
    }
   ],
   "source": [
    "df = nfl.import_weekly_data([2024])"
   ]
  },
  {
   "cell_type": "code",
   "execution_count": 20,
   "id": "3ad0cc3d",
   "metadata": {},
   "outputs": [
    {
     "name": "stdout",
     "output_type": "stream",
     "text": [
      "       player_id player_name player_display_name position position_group  \\\n",
      "0     00-0023459   A.Rodgers       Aaron Rodgers       QB             QB   \n",
      "1     00-0023459   A.Rodgers       Aaron Rodgers       QB             QB   \n",
      "2     00-0023459   A.Rodgers       Aaron Rodgers       QB             QB   \n",
      "3     00-0023459   A.Rodgers       Aaron Rodgers       QB             QB   \n",
      "4     00-0023459   A.Rodgers       Aaron Rodgers       QB             QB   \n",
      "...          ...         ...                 ...      ...            ...   \n",
      "5592  00-0039921    T.Benson         Trey Benson       RB             RB   \n",
      "5593  00-0039921    T.Benson         Trey Benson       RB             RB   \n",
      "5594  00-0039921    T.Benson         Trey Benson       RB             RB   \n",
      "5595  00-0039921    T.Benson         Trey Benson       RB             RB   \n",
      "5596  00-0039921    T.Benson         Trey Benson       RB             RB   \n",
      "\n",
      "                                           headshot_url recent_team  season  \\\n",
      "0     https://static.www.nfl.com/image/upload/f_auto...         NYJ    2024   \n",
      "1     https://static.www.nfl.com/image/upload/f_auto...         NYJ    2024   \n",
      "2     https://static.www.nfl.com/image/upload/f_auto...         NYJ    2024   \n",
      "3     https://static.www.nfl.com/image/upload/f_auto...         NYJ    2024   \n",
      "4     https://static.www.nfl.com/image/upload/f_auto...         NYJ    2024   \n",
      "...                                                 ...         ...     ...   \n",
      "5592  https://static.www.nfl.com/image/upload/f_auto...         ARI    2024   \n",
      "5593  https://static.www.nfl.com/image/upload/f_auto...         ARI    2024   \n",
      "5594  https://static.www.nfl.com/image/upload/f_auto...         ARI    2024   \n",
      "5595  https://static.www.nfl.com/image/upload/f_auto...         ARI    2024   \n",
      "5596  https://static.www.nfl.com/image/upload/f_auto...         ARI    2024   \n",
      "\n",
      "      week season_type  ... receiving_first_downs  receiving_epa  \\\n",
      "0        1         REG  ...                   0.0            NaN   \n",
      "1        2         REG  ...                   0.0            NaN   \n",
      "2        3         REG  ...                   0.0            NaN   \n",
      "3        4         REG  ...                   0.0            NaN   \n",
      "4        5         REG  ...                   0.0            NaN   \n",
      "...    ...         ...  ...                   ...            ...   \n",
      "5592    10         REG  ...                   2.0       1.987017   \n",
      "5593    12         REG  ...                   0.0            NaN   \n",
      "5594    13         REG  ...                   0.0            NaN   \n",
      "5595    14         REG  ...                   0.0      -0.144496   \n",
      "5596    15         REG  ...                   0.0            NaN   \n",
      "\n",
      "      receiving_2pt_conversions   racr  target_share  air_yards_share  \\\n",
      "0                             0    NaN           NaN              NaN   \n",
      "1                             0    NaN           NaN              NaN   \n",
      "2                             0    NaN           NaN              NaN   \n",
      "3                             0    NaN           NaN              NaN   \n",
      "4                             0    NaN           NaN              NaN   \n",
      "...                         ...    ...           ...              ...   \n",
      "5592                          0 -3.125      0.083333        -0.072072   \n",
      "5593                          0    NaN           NaN              NaN   \n",
      "5594                          0    NaN           NaN              NaN   \n",
      "5595                          0 -0.800      0.026316        -0.031847   \n",
      "5596                          0    NaN           NaN              NaN   \n",
      "\n",
      "          wopr  special_teams_tds  fantasy_points  fantasy_points_ppr  \n",
      "0          NaN                0.0        8.580000            8.580000  \n",
      "1          NaN                0.0       15.140000           15.140000  \n",
      "2          NaN                0.0       21.040001           21.040001  \n",
      "3          NaN                0.0       11.600000           11.600000  \n",
      "4          NaN                0.0       11.760000           11.760000  \n",
      "...        ...                ...             ...                 ...  \n",
      "5592  0.074550                0.0        8.700000           10.700000  \n",
      "5593       NaN                0.0        1.800000            1.800000  \n",
      "5594       NaN                0.0        2.000000            2.000000  \n",
      "5595  0.017181                0.0        1.900000            2.900000  \n",
      "5596       NaN                0.0        2.200000            2.200000  \n",
      "\n",
      "[5597 rows x 53 columns]\n"
     ]
    }
   ],
   "source": [
    "print(df)"
   ]
  },
  {
   "cell_type": "code",
   "execution_count": 21,
   "id": "e2f26327",
   "metadata": {},
   "outputs": [
    {
     "data": {
      "text/plain": [
       "Index(['player_id', 'player_name', 'player_display_name', 'position',\n",
       "       'position_group', 'headshot_url', 'recent_team', 'season', 'week',\n",
       "       'season_type', 'opponent_team', 'completions', 'attempts',\n",
       "       'passing_yards', 'passing_tds', 'interceptions', 'sacks', 'sack_yards',\n",
       "       'sack_fumbles', 'sack_fumbles_lost', 'passing_air_yards',\n",
       "       'passing_yards_after_catch', 'passing_first_downs', 'passing_epa',\n",
       "       'passing_2pt_conversions', 'pacr', 'dakota', 'carries', 'rushing_yards',\n",
       "       'rushing_tds', 'rushing_fumbles', 'rushing_fumbles_lost',\n",
       "       'rushing_first_downs', 'rushing_epa', 'rushing_2pt_conversions',\n",
       "       'receptions', 'targets', 'receiving_yards', 'receiving_tds',\n",
       "       'receiving_fumbles', 'receiving_fumbles_lost', 'receiving_air_yards',\n",
       "       'receiving_yards_after_catch', 'receiving_first_downs', 'receiving_epa',\n",
       "       'receiving_2pt_conversions', 'racr', 'target_share', 'air_yards_share',\n",
       "       'wopr', 'special_teams_tds', 'fantasy_points', 'fantasy_points_ppr'],\n",
       "      dtype='object')"
      ]
     },
     "execution_count": 21,
     "metadata": {},
     "output_type": "execute_result"
    }
   ],
   "source": [
    "df.columns"
   ]
  },
  {
   "cell_type": "code",
   "execution_count": 30,
   "id": "71b418ad",
   "metadata": {},
   "outputs": [
    {
     "name": "stdout",
     "output_type": "stream",
     "text": [
      "0     1\n",
      "1     2\n",
      "2     2\n",
      "3     0\n",
      "4     2\n",
      "5     2\n",
      "6     1\n",
      "7     2\n",
      "8     3\n",
      "9     0\n",
      "10    2\n",
      "11    2\n",
      "12    1\n",
      "13    3\n",
      "14    1\n",
      "15    0\n",
      "16    4\n",
      "Name: passing_tds, dtype: int32\n"
     ]
    }
   ],
   "source": [
    "print((df.loc[df['player_name'] == 'A.Rodgers'])['passing_tds'])"
   ]
  },
  {
   "cell_type": "code",
   "execution_count": null,
   "id": "ead3afcf",
   "metadata": {},
   "outputs": [],
   "source": []
  }
 ],
 "metadata": {
  "kernelspec": {
   "display_name": "Python 3",
   "language": "python",
   "name": "python3"
  },
  "language_info": {
   "codemirror_mode": {
    "name": "ipython",
    "version": 3
   },
   "file_extension": ".py",
   "mimetype": "text/x-python",
   "name": "python",
   "nbconvert_exporter": "python",
   "pygments_lexer": "ipython3",
   "version": "3.11.9"
  }
 },
 "nbformat": 4,
 "nbformat_minor": 5
}
