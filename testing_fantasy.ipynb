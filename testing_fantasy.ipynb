{
 "cells": [
  {
   "cell_type": "code",
   "execution_count": 8,
   "id": "9a40adce",
   "metadata": {},
   "outputs": [
    {
     "name": "stderr",
     "output_type": "stream",
     "text": [
      "[2025-07-11 16:29:52,400 DEBUG] [yahoo_oauth.oauth.__init__] Checking \n",
      "[2025-07-11 16:29:52,401 DEBUG] [yahoo_oauth.oauth.token_is_valid] ELAPSED TIME : 981.1532039642334\n",
      "[2025-07-11 16:29:52,401 DEBUG] [yahoo_oauth.oauth.token_is_valid] TOKEN IS STILL VALID\n",
      "[2025-07-11 16:29:52,402 DEBUG] [yahoo_oauth.oauth.token_is_valid] ELAPSED TIME : 981.154205083847\n",
      "[2025-07-11 16:29:52,403 DEBUG] [yahoo_oauth.oauth.token_is_valid] TOKEN IS STILL VALID\n",
      "[2025-07-11 16:29:52,741 DEBUG] [yahoo_oauth.oauth.__init__] Checking \n",
      "[2025-07-11 16:29:52,742 DEBUG] [yahoo_oauth.oauth.token_is_valid] ELAPSED TIME : 981.4945139884949\n",
      "[2025-07-11 16:29:52,743 DEBUG] [yahoo_oauth.oauth.token_is_valid] TOKEN IS STILL VALID\n",
      "[2025-07-11 16:29:52,744 DEBUG] [yahoo_oauth.oauth.token_is_valid] ELAPSED TIME : 981.4965171813965\n",
      "[2025-07-11 16:29:52,744 DEBUG] [yahoo_oauth.oauth.token_is_valid] TOKEN IS STILL VALID\n",
      "[2025-07-11 16:29:52,912 DEBUG] [yahoo_oauth.oauth.__init__] Checking \n",
      "[2025-07-11 16:29:52,913 DEBUG] [yahoo_oauth.oauth.token_is_valid] ELAPSED TIME : 981.6646690368652\n",
      "[2025-07-11 16:29:52,913 DEBUG] [yahoo_oauth.oauth.token_is_valid] TOKEN IS STILL VALID\n",
      "[2025-07-11 16:29:52,914 DEBUG] [yahoo_oauth.oauth.token_is_valid] ELAPSED TIME : 981.6656708717346\n",
      "[2025-07-11 16:29:52,914 DEBUG] [yahoo_oauth.oauth.token_is_valid] TOKEN IS STILL VALID\n"
     ]
    },
    {
     "name": "stdout",
     "output_type": "stream",
     "text": [
      "Yahoo League Info Updated\n",
      "League update - Done\n"
     ]
    },
    {
     "name": "stderr",
     "output_type": "stream",
     "text": [
      "[2025-07-11 16:29:53,095 DEBUG] [yahoo_oauth.oauth.__init__] Checking \n",
      "[2025-07-11 16:29:53,096 DEBUG] [yahoo_oauth.oauth.token_is_valid] ELAPSED TIME : 981.8478360176086\n",
      "[2025-07-11 16:29:53,096 DEBUG] [yahoo_oauth.oauth.token_is_valid] TOKEN IS STILL VALID\n",
      "[2025-07-11 16:29:53,097 DEBUG] [yahoo_oauth.oauth.token_is_valid] ELAPSED TIME : 981.8488371372223\n",
      "[2025-07-11 16:29:53,097 DEBUG] [yahoo_oauth.oauth.token_is_valid] TOKEN IS STILL VALID\n"
     ]
    },
    {
     "name": "stdout",
     "output_type": "stream",
     "text": [
      "Standings update - Done\n"
     ]
    },
    {
     "name": "stderr",
     "output_type": "stream",
     "text": [
      "[2025-07-11 16:29:55,597 DEBUG] [yahoo_oauth.oauth.__init__] Checking \n",
      "[2025-07-11 16:29:55,598 DEBUG] [yahoo_oauth.oauth.token_is_valid] ELAPSED TIME : 984.3501098155975\n",
      "[2025-07-11 16:29:55,598 DEBUG] [yahoo_oauth.oauth.token_is_valid] TOKEN IS STILL VALID\n",
      "[2025-07-11 16:29:55,599 DEBUG] [yahoo_oauth.oauth.token_is_valid] ELAPSED TIME : 984.3511099815369\n",
      "[2025-07-11 16:29:55,599 DEBUG] [yahoo_oauth.oauth.token_is_valid] TOKEN IS STILL VALID\n",
      "[2025-07-11 16:29:55,771 DEBUG] [yahoo_oauth.oauth.__init__] Checking \n"
     ]
    },
    {
     "name": "stdout",
     "output_type": "stream",
     "text": [
      "Scoreboards update - Done\n",
      "Transactions update - Done\n"
     ]
    },
    {
     "name": "stderr",
     "output_type": "stream",
     "text": [
      "[2025-07-11 16:29:55,772 DEBUG] [yahoo_oauth.oauth.token_is_valid] ELAPSED TIME : 984.5242667198181\n",
      "[2025-07-11 16:29:55,772 DEBUG] [yahoo_oauth.oauth.token_is_valid] TOKEN IS STILL VALID\n",
      "[2025-07-11 16:29:55,773 DEBUG] [yahoo_oauth.oauth.token_is_valid] ELAPSED TIME : 984.5252678394318\n",
      "[2025-07-11 16:29:55,774 DEBUG] [yahoo_oauth.oauth.token_is_valid] TOKEN IS STILL VALID\n"
     ]
    },
    {
     "name": "stdout",
     "output_type": "stream",
     "text": [
      "Week 1 roster update - done\n",
      "Week 2 roster update - done\n",
      "Week 3 roster update - done\n",
      "Week 4 roster update - done\n",
      "Week 5 roster update - done\n",
      "Week 6 roster update - done\n",
      "Week 7 roster update - done\n",
      "Week 8 roster update - done\n",
      "Week 9 roster update - done\n",
      "Week 10 roster update - done\n",
      "Week 11 roster update - done\n",
      "Week 12 roster update - done\n",
      "Week 13 roster update - done\n",
      "Week 14 roster update - done\n",
      "Week 15 roster update - done\n",
      "Week 16 roster update - done\n",
      "Week 17 roster update - done\n",
      "Rosters update - Done\n",
      "Update Complete\n"
     ]
    }
   ],
   "source": [
    "%run fantasy_stats.py"
   ]
  },
  {
   "cell_type": "code",
   "execution_count": null,
   "id": "68aed04c",
   "metadata": {},
   "outputs": [],
   "source": []
  }
 ],
 "metadata": {
  "kernelspec": {
   "display_name": "Python 3",
   "language": "python",
   "name": "python3"
  },
  "language_info": {
   "codemirror_mode": {
    "name": "ipython",
    "version": 3
   },
   "file_extension": ".py",
   "mimetype": "text/x-python",
   "name": "python",
   "nbconvert_exporter": "python",
   "pygments_lexer": "ipython3",
   "version": "3.11.9"
  }
 },
 "nbformat": 4,
 "nbformat_minor": 5
}
