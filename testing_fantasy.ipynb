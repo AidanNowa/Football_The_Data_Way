{
 "cells": [
  {
   "cell_type": "code",
   "execution_count": 31,
   "id": "9a40adce",
   "metadata": {},
   "outputs": [],
   "source": [
    "#%run fantasy_stats.py"
   ]
  },
  {
   "cell_type": "code",
   "execution_count": 32,
   "id": "cef37186",
   "metadata": {
    "vscode": {
     "languageId": "powershell"
    }
   },
   "outputs": [],
   "source": [
    "#pip install yahoo_fantasy_api"
   ]
  },
  {
   "cell_type": "code",
   "execution_count": 33,
   "id": "68aed04c",
   "metadata": {},
   "outputs": [],
   "source": [
    "from yahoo_fantasy_api import League, Team\n",
    "from yahoo_oauth import OAuth2"
   ]
  },
  {
   "cell_type": "code",
   "execution_count": 34,
   "id": "7535d3da",
   "metadata": {},
   "outputs": [
    {
     "name": "stderr",
     "output_type": "stream",
     "text": [
      "[2025-07-15 17:12:54,190 DEBUG] [yahoo_oauth.oauth.__init__] Checking \n",
      "[2025-07-15 17:12:54,191 DEBUG] [yahoo_oauth.oauth.token_is_valid] ELAPSED TIME : 21729.04787993431\n",
      "[2025-07-15 17:12:54,191 DEBUG] [yahoo_oauth.oauth.token_is_valid] TOKEN HAS EXPIRED\n",
      "[2025-07-15 17:12:54,192 DEBUG] [yahoo_oauth.oauth.refresh_access_token] REFRESHING TOKEN\n"
     ]
    }
   ],
   "source": [
    "oauth = OAuth2(None, None, from_file='./auth/oauth2yahoo.json')\n",
    "league = League(oauth, league_id='461.l.6288')"
   ]
  },
  {
   "cell_type": "code",
   "execution_count": null,
   "id": "0caa599a",
   "metadata": {},
   "outputs": [
    {
     "ename": "AttributeError",
     "evalue": "'League' object has no attribute 'rosters'",
     "output_type": "error",
     "traceback": [
      "\u001b[31m---------------------------------------------------------------------------\u001b[39m",
      "\u001b[31mAttributeError\u001b[39m                            Traceback (most recent call last)",
      "\u001b[36mCell\u001b[39m\u001b[36m \u001b[39m\u001b[32mIn[35]\u001b[39m\u001b[32m, line 1\u001b[39m\n\u001b[32m----> \u001b[39m\u001b[32m1\u001b[39m roster = \u001b[43mleague\u001b[49m\u001b[43m.\u001b[49m\u001b[43mrosters\u001b[49m()\n",
      "\u001b[31mAttributeError\u001b[39m: 'League' object has no attribute 'rosters'"
     ]
    }
   ],
   "source": [
    "#roster = league.rosters()"
   ]
  },
  {
   "cell_type": "code",
   "execution_count": 36,
   "id": "37e582b6",
   "metadata": {},
   "outputs": [],
   "source": [
    "team = Team(oauth, team_key=\"461.l.6288.t.7\")"
   ]
  },
  {
   "cell_type": "code",
   "execution_count": 37,
   "id": "4dd1f457",
   "metadata": {},
   "outputs": [
    {
     "data": {
      "text/plain": [
       "{'team_key': '461.l.6288.t.7',\n",
       " 'team_id': '7',\n",
       " 'name': 'Milwaukee Millies',\n",
       " 'is_owned_by_current_login': 1,\n",
       " 'url': 'https://football.fantasysports.yahoo.com/f1/6288/7',\n",
       " 'team_logos': [{'team_logo': {'size': 'large',\n",
       "    'url': 'https://yahoofantasysports-res.cloudinary.com/image/upload/t_s192sq/fantasy-logos/06430359b11625d0c85f4b3c0c9215fe7703b0ec071b49d2f932aa1c76b74cb3.jpg'}}],\n",
       " 'previous_season_team_rank': 1,\n",
       " 'division_id': '3',\n",
       " 'number_of_moves': 0,\n",
       " 'number_of_trades': 0,\n",
       " 'roster_adds': {'coverage_type': 'week', 'coverage_value': 1, 'value': '0'},\n",
       " 'league_scoring_type': 'head',\n",
       " 'has_draft_grade': 1,\n",
       " 'draft_grade': 'B',\n",
       " 'draft_recap_url': 'https://football.fantasysports.yahoo.com/f1/6288/7/draftrecap',\n",
       " 'managers': [{'manager': {'manager_id': '7',\n",
       "    'nickname': 'Aidan',\n",
       "    'guid': '4KAKNEK4VYYTC7DRQGST2OWGLE',\n",
       "    'is_current_login': '1',\n",
       "    'image_url': 'https://s.yimg.com/ag/images/default_user_profile_pic_64sq.jpg',\n",
       "    'felo_score': '734',\n",
       "    'felo_tier': 'gold'}}]}"
      ]
     },
     "execution_count": 37,
     "metadata": {},
     "output_type": "execute_result"
    }
   ],
   "source": [
    "team.details()"
   ]
  },
  {
   "cell_type": "code",
   "execution_count": 47,
   "id": "35b2de36",
   "metadata": {},
   "outputs": [
    {
     "data": {
      "text/plain": [
       "[{'player_id': 29235,\n",
       "  'name': 'Jared Goff',\n",
       "  'status': '',\n",
       "  'position_type': 'O',\n",
       "  'eligible_positions': ['QB'],\n",
       "  'selected_position': 'QB'},\n",
       " {'player_id': 33393,\n",
       "  'name': \"Ja'Marr Chase\",\n",
       "  'status': '',\n",
       "  'position_type': 'O',\n",
       "  'eligible_positions': ['WR', 'W/R', 'W/R/T'],\n",
       "  'selected_position': 'WR'},\n",
       " {'player_id': 30994,\n",
       "  'name': 'DJ Moore',\n",
       "  'status': '',\n",
       "  'position_type': 'O',\n",
       "  'eligible_positions': ['WR', 'W/R', 'W/R/T'],\n",
       "  'selected_position': 'WR'},\n",
       " {'player_id': 30972,\n",
       "  'name': 'Saquon Barkley',\n",
       "  'status': '',\n",
       "  'position_type': 'O',\n",
       "  'eligible_positions': ['RB', 'W/R', 'W/R/T'],\n",
       "  'selected_position': 'RB'},\n",
       " {'player_id': 30218,\n",
       "  'name': 'James Conner',\n",
       "  'status': '',\n",
       "  'position_type': 'O',\n",
       "  'eligible_positions': ['RB', 'W/R', 'W/R/T'],\n",
       "  'selected_position': 'RB'},\n",
       " {'player_id': 34085,\n",
       "  'name': 'Jake Ferguson',\n",
       "  'status': '',\n",
       "  'position_type': 'O',\n",
       "  'eligible_positions': ['TE', 'W/R/T'],\n",
       "  'selected_position': 'TE'},\n",
       " {'player_id': 40042,\n",
       "  'name': 'Jordan Addison',\n",
       "  'status': '',\n",
       "  'position_type': 'O',\n",
       "  'eligible_positions': ['WR', 'W/R', 'W/R/T'],\n",
       "  'selected_position': 'W/R'},\n",
       " {'player_id': 40063,\n",
       "  'name': 'Jayden Reed',\n",
       "  'status': '',\n",
       "  'position_type': 'O',\n",
       "  'eligible_positions': ['WR', 'W/R', 'W/R/T'],\n",
       "  'selected_position': 'W/R/T'},\n",
       " {'player_id': 40900,\n",
       "  'name': 'Caleb Williams',\n",
       "  'status': '',\n",
       "  'position_type': 'O',\n",
       "  'eligible_positions': ['QB'],\n",
       "  'selected_position': 'BN'},\n",
       " {'player_id': 40119,\n",
       "  'name': 'Tyjae Spears',\n",
       "  'status': '',\n",
       "  'position_type': 'O',\n",
       "  'eligible_positions': ['RB', 'W/R', 'W/R/T'],\n",
       "  'selected_position': 'BN'},\n",
       " {'player_id': 31017,\n",
       "  'name': 'Christian Kirk',\n",
       "  'status': '',\n",
       "  'position_type': 'O',\n",
       "  'eligible_positions': ['WR', 'W/R', 'W/R/T'],\n",
       "  'selected_position': 'BN'},\n",
       " {'player_id': 33113,\n",
       "  'name': 'Juwan Johnson',\n",
       "  'status': '',\n",
       "  'position_type': 'O',\n",
       "  'eligible_positions': ['TE', 'W/R/T'],\n",
       "  'selected_position': 'BN'},\n",
       " {'player_id': 40819,\n",
       "  'name': 'Brandon Aubrey',\n",
       "  'status': 'Q',\n",
       "  'position_type': 'K',\n",
       "  'eligible_positions': ['K'],\n",
       "  'selected_position': 'K'},\n",
       " {'player_id': 30266,\n",
       "  'name': 'Jake Elliott',\n",
       "  'status': '',\n",
       "  'position_type': 'K',\n",
       "  'eligible_positions': ['K'],\n",
       "  'selected_position': 'BN'},\n",
       " {'player_id': 100012,\n",
       "  'name': 'Kansas City',\n",
       "  'status': '',\n",
       "  'position_type': 'DT',\n",
       "  'eligible_positions': ['DEF'],\n",
       "  'selected_position': 'DEF'},\n",
       " {'player_id': 30981,\n",
       "  'name': 'Minkah Fitzpatrick',\n",
       "  'status': '',\n",
       "  'position_type': 'DP',\n",
       "  'eligible_positions': ['DB'],\n",
       "  'selected_position': 'DB'},\n",
       " {'player_id': 31938,\n",
       "  'name': 'Maxx Crosby',\n",
       "  'status': '',\n",
       "  'position_type': 'DP',\n",
       "  'eligible_positions': ['DL'],\n",
       "  'selected_position': 'DL'},\n",
       " {'player_id': 32744,\n",
       "  'name': 'Zack Baun',\n",
       "  'status': '',\n",
       "  'position_type': 'DP',\n",
       "  'eligible_positions': ['LB'],\n",
       "  'selected_position': 'LB'},\n",
       " {'player_id': 31835,\n",
       "  'name': 'Quinnen Williams',\n",
       "  'status': 'Q',\n",
       "  'position_type': 'DP',\n",
       "  'eligible_positions': ['DL'],\n",
       "  'selected_position': 'BN'}]"
      ]
     },
     "execution_count": 47,
     "metadata": {},
     "output_type": "execute_result"
    }
   ],
   "source": [
    "team.roster()"
   ]
  },
  {
   "cell_type": "code",
   "execution_count": 39,
   "id": "57f0680a",
   "metadata": {},
   "outputs": [
    {
     "data": {
      "text/plain": [
       "[{'display_name': 'Pass Yds', 'position_type': 'O'},\n",
       " {'display_name': 'Pass TD', 'position_type': 'O'},\n",
       " {'display_name': 'Int', 'position_type': 'O'},\n",
       " {'display_name': 'Rush Yds', 'position_type': 'O'},\n",
       " {'display_name': 'Rush TD', 'position_type': 'O'},\n",
       " {'display_name': 'Rec', 'position_type': 'O'},\n",
       " {'display_name': 'Rec Yds', 'position_type': 'O'},\n",
       " {'display_name': 'Rec TD', 'position_type': 'O'},\n",
       " {'display_name': 'Ret Yds', 'position_type': 'O'},\n",
       " {'display_name': 'Ret TD', 'position_type': 'O'},\n",
       " {'display_name': '2-PT', 'position_type': 'O'},\n",
       " {'display_name': 'Fum Lost', 'position_type': 'O'},\n",
       " {'display_name': 'Fum Ret TD', 'position_type': 'O'},\n",
       " {'display_name': 'FG 0-19', 'position_type': 'K'},\n",
       " {'display_name': 'FG 20-29', 'position_type': 'K'},\n",
       " {'display_name': 'FG 30-39', 'position_type': 'K'},\n",
       " {'display_name': 'FG 40-49', 'position_type': 'K'},\n",
       " {'display_name': 'FG 50+', 'position_type': 'K'},\n",
       " {'display_name': 'PAT Made', 'position_type': 'K'},\n",
       " {'display_name': 'Sack', 'position_type': 'DT'},\n",
       " {'display_name': 'Int', 'position_type': 'DT'},\n",
       " {'display_name': 'Fum Rec', 'position_type': 'DT'},\n",
       " {'display_name': 'TD', 'position_type': 'DT'},\n",
       " {'display_name': 'Safe', 'position_type': 'DT'},\n",
       " {'display_name': 'Blk Kick', 'position_type': 'DT'},\n",
       " {'display_name': 'Ret Yds', 'position_type': 'DT'},\n",
       " {'display_name': 'Ret TD', 'position_type': 'DT'},\n",
       " {'display_name': 'TFL', 'position_type': 'DT'},\n",
       " {'display_name': '3 and Outs', 'position_type': 'DT'},\n",
       " {'display_name': 'Pts Allow 0', 'position_type': 'DT'},\n",
       " {'display_name': 'Pts Allow 1-6', 'position_type': 'DT'},\n",
       " {'display_name': 'Pts Allow 7-13', 'position_type': 'DT'},\n",
       " {'display_name': 'Pts Allow 14-20', 'position_type': 'DT'},\n",
       " {'display_name': 'Pts Allow 21-27', 'position_type': 'DT'},\n",
       " {'display_name': 'Pts Allow 28-34', 'position_type': 'DT'},\n",
       " {'display_name': 'Pts Allow 35+', 'position_type': 'DT'},\n",
       " {'display_name': 'Yds Allow Neg', 'position_type': 'DT'},\n",
       " {'display_name': 'Yds Allow 0-99', 'position_type': 'DT'},\n",
       " {'display_name': 'Yds Allow 100-199', 'position_type': 'DT'},\n",
       " {'display_name': 'Yds Allow 200-299', 'position_type': 'DT'},\n",
       " {'display_name': 'Yds Allow 300-399', 'position_type': 'DT'},\n",
       " {'display_name': 'Yds Allow 400-499', 'position_type': 'DT'},\n",
       " {'display_name': 'Yds Allow 500+', 'position_type': 'DT'},\n",
       " {'display_name': 'XPR', 'position_type': 'DT'},\n",
       " {'display_name': 'Tack Solo', 'position_type': 'DP'},\n",
       " {'display_name': 'Tack Ast', 'position_type': 'DP'},\n",
       " {'display_name': 'Sack', 'position_type': 'DP'},\n",
       " {'display_name': 'Int', 'position_type': 'DP'},\n",
       " {'display_name': 'Fum Force', 'position_type': 'DP'},\n",
       " {'display_name': 'Fum Rec', 'position_type': 'DP'},\n",
       " {'display_name': 'TD', 'position_type': 'DP'},\n",
       " {'display_name': 'Safe', 'position_type': 'DP'},\n",
       " {'display_name': 'Pass Def', 'position_type': 'DP'},\n",
       " {'display_name': 'TFL', 'position_type': 'DP'},\n",
       " {'display_name': 'TO Ret Yds', 'position_type': 'DP'}]"
      ]
     },
     "execution_count": 39,
     "metadata": {},
     "output_type": "execute_result"
    }
   ],
   "source": [
    "league.stat_categories()"
   ]
  },
  {
   "cell_type": "code",
   "execution_count": 48,
   "id": "de79ef3e",
   "metadata": {},
   "outputs": [],
   "source": [
    "player_stats = league.player_stats([29235, 33393, 40819], req_type='season', season=2024)"
   ]
  },
  {
   "cell_type": "code",
   "execution_count": null,
   "id": "94267002",
   "metadata": {},
   "outputs": [],
   "source": [
    "import pandas as pd"
   ]
  },
  {
   "cell_type": "code",
   "execution_count": 49,
   "id": "dac8490b",
   "metadata": {},
   "outputs": [
    {
     "name": "stdout",
     "output_type": "stream",
     "text": [
      "   player_id            name position_type  Pass Yds  Pass TD   Int  Rush Att  \\\n",
      "0      29235      Jared Goff             O    4629.0     37.0  12.0      35.0   \n",
      "1      33393   Ja'Marr Chase             O       0.0      0.0   0.0       3.0   \n",
      "2      40819  Brandon Aubrey             K       NaN      NaN   NaN       NaN   \n",
      "\n",
      "   Rush Yds  Rush TD    Rec  ...  Fum Lost  Targets  Fum Ret TD  total_points  \\\n",
      "0      56.0      0.0    1.0  ...       0.0      1.0         0.0        399.96   \n",
      "1      32.0      0.0  127.0  ...       0.0    175.0         0.0        409.00   \n",
      "2       NaN      NaN    NaN  ...       NaN      NaN         NaN        150.00   \n",
      "\n",
      "   FG 0-19  FG 20-29  FG 30-39  FG 40-49 FG 50+  PAT Made  \n",
      "0      NaN       NaN       NaN       NaN    NaN       NaN  \n",
      "1      NaN       NaN       NaN       NaN    NaN       NaN  \n",
      "2      0.0       4.0       8.0      14.0   14.0      30.0  \n",
      "\n",
      "[3 rows x 25 columns]\n"
     ]
    }
   ],
   "source": [
    "df = pd.json_normalize(player_stats)\n",
    "print(df)"
   ]
  },
  {
   "cell_type": "code",
   "execution_count": 44,
   "id": "e226b734",
   "metadata": {},
   "outputs": [
    {
     "name": "stdout",
     "output_type": "stream",
     "text": [
      "Index(['player_id', 'name', 'position_type', 'Pass Yds', 'Pass TD', 'Int',\n",
      "       'Rush Att', 'Rush Yds', 'Rush TD', 'Rec', 'Rec Yds', 'Rec TD',\n",
      "       'Ret Yds', 'Ret TD', '2-PT', 'Fum Lost', 'Targets', 'Fum Ret TD',\n",
      "       'total_points'],\n",
      "      dtype='object')\n"
     ]
    }
   ],
   "source": [
    "print(df.columns)"
   ]
  },
  {
   "cell_type": "code",
   "execution_count": null,
   "id": "b2a9debf",
   "metadata": {},
   "outputs": [],
   "source": []
  }
 ],
 "metadata": {
  "kernelspec": {
   "display_name": "Python 3",
   "language": "python",
   "name": "python3"
  },
  "language_info": {
   "codemirror_mode": {
    "name": "ipython",
    "version": 3
   },
   "file_extension": ".py",
   "mimetype": "text/x-python",
   "name": "python",
   "nbconvert_exporter": "python",
   "pygments_lexer": "ipython3",
   "version": "3.11.9"
  }
 },
 "nbformat": 4,
 "nbformat_minor": 5
}
