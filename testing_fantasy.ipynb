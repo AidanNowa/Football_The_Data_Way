{
 "cells": [
  {
   "cell_type": "code",
   "execution_count": null,
   "id": "9a40adce",
   "metadata": {},
   "outputs": [
    {
     "name": "stderr",
     "output_type": "stream",
     "text": [
      "[2025-07-15 00:29:35,008 DEBUG] [yahoo_oauth.oauth.__init__] Checking \n",
      "[2025-07-15 00:29:35,009 DEBUG] [yahoo_oauth.oauth.token_is_valid] ELAPSED TIME : 288963.7612001896\n",
      "[2025-07-15 00:29:35,009 DEBUG] [yahoo_oauth.oauth.token_is_valid] TOKEN HAS EXPIRED\n",
      "[2025-07-15 00:29:35,009 DEBUG] [yahoo_oauth.oauth.refresh_access_token] REFRESHING TOKEN\n",
      "[2025-07-15 00:29:35,147 DEBUG] [yahoo_oauth.oauth.token_is_valid] ELAPSED TIME : 0.13712549209594727\n",
      "[2025-07-15 00:29:35,148 DEBUG] [yahoo_oauth.oauth.token_is_valid] TOKEN IS STILL VALID\n",
      "[2025-07-15 00:29:35,514 DEBUG] [yahoo_oauth.oauth.__init__] Checking \n",
      "[2025-07-15 00:29:35,521 DEBUG] [yahoo_oauth.oauth.token_is_valid] ELAPSED TIME : 0.5104634761810303\n",
      "[2025-07-15 00:29:35,522 DEBUG] [yahoo_oauth.oauth.token_is_valid] TOKEN IS STILL VALID\n",
      "[2025-07-15 00:29:35,523 DEBUG] [yahoo_oauth.oauth.token_is_valid] ELAPSED TIME : 0.5124657154083252\n",
      "[2025-07-15 00:29:35,523 DEBUG] [yahoo_oauth.oauth.token_is_valid] TOKEN IS STILL VALID\n"
     ]
    },
    {
     "name": "stdout",
     "output_type": "stream",
     "text": [
      "Yahoo League Info Updated\n"
     ]
    },
    {
     "name": "stderr",
     "output_type": "stream",
     "text": [
      "[2025-07-15 00:29:35,846 DEBUG] [yahoo_oauth.oauth.__init__] Checking \n",
      "[2025-07-15 00:29:35,847 DEBUG] [yahoo_oauth.oauth.token_is_valid] ELAPSED TIME : 0.836759090423584\n",
      "[2025-07-15 00:29:35,848 DEBUG] [yahoo_oauth.oauth.token_is_valid] TOKEN IS STILL VALID\n",
      "[2025-07-15 00:29:35,849 DEBUG] [yahoo_oauth.oauth.token_is_valid] ELAPSED TIME : 0.8387620449066162\n",
      "[2025-07-15 00:29:35,849 DEBUG] [yahoo_oauth.oauth.token_is_valid] TOKEN IS STILL VALID\n"
     ]
    },
    {
     "name": "stdout",
     "output_type": "stream",
     "text": [
      "League update - Done\n"
     ]
    },
    {
     "name": "stderr",
     "output_type": "stream",
     "text": [
      "[2025-07-15 00:29:36,204 DEBUG] [yahoo_oauth.oauth.__init__] Checking \n",
      "[2025-07-15 00:29:36,205 DEBUG] [yahoo_oauth.oauth.token_is_valid] ELAPSED TIME : 1.1950843334197998\n",
      "[2025-07-15 00:29:36,205 DEBUG] [yahoo_oauth.oauth.token_is_valid] TOKEN IS STILL VALID\n",
      "[2025-07-15 00:29:36,206 DEBUG] [yahoo_oauth.oauth.token_is_valid] ELAPSED TIME : 1.196084976196289\n",
      "[2025-07-15 00:29:36,207 DEBUG] [yahoo_oauth.oauth.token_is_valid] TOKEN IS STILL VALID\n"
     ]
    },
    {
     "name": "stdout",
     "output_type": "stream",
     "text": [
      "Standings update - Done\n"
     ]
    },
    {
     "name": "stderr",
     "output_type": "stream",
     "text": [
      "[2025-07-15 00:29:40,094 DEBUG] [yahoo_oauth.oauth.__init__] Checking \n",
      "[2025-07-15 00:29:40,095 DEBUG] [yahoo_oauth.oauth.token_is_valid] ELAPSED TIME : 5.085164546966553\n",
      "[2025-07-15 00:29:40,095 DEBUG] [yahoo_oauth.oauth.token_is_valid] TOKEN IS STILL VALID\n",
      "[2025-07-15 00:29:40,096 DEBUG] [yahoo_oauth.oauth.token_is_valid] ELAPSED TIME : 5.086165189743042\n",
      "[2025-07-15 00:29:40,097 DEBUG] [yahoo_oauth.oauth.token_is_valid] TOKEN IS STILL VALID\n"
     ]
    },
    {
     "name": "stdout",
     "output_type": "stream",
     "text": [
      "Scoreboards update - Done\n"
     ]
    },
    {
     "name": "stderr",
     "output_type": "stream",
     "text": [
      "[2025-07-15 00:29:40,460 DEBUG] [yahoo_oauth.oauth.__init__] Checking \n",
      "[2025-07-15 00:29:40,461 DEBUG] [yahoo_oauth.oauth.token_is_valid] ELAPSED TIME : 5.450535535812378\n",
      "[2025-07-15 00:29:40,462 DEBUG] [yahoo_oauth.oauth.token_is_valid] TOKEN IS STILL VALID\n",
      "[2025-07-15 00:29:40,463 DEBUG] [yahoo_oauth.oauth.token_is_valid] ELAPSED TIME : 5.452537536621094\n",
      "[2025-07-15 00:29:40,463 DEBUG] [yahoo_oauth.oauth.token_is_valid] TOKEN IS STILL VALID\n"
     ]
    },
    {
     "name": "stdout",
     "output_type": "stream",
     "text": [
      "Transactions update - Done\n",
      "Week 1 roster update - done\n",
      "Week 2 roster update - done\n",
      "Week 3 roster update - done\n",
      "Week 4 roster update - done\n",
      "Week 5 roster update - done\n",
      "Week 6 roster update - done\n",
      "Week 7 roster update - done\n",
      "Week 8 roster update - done\n",
      "Week 9 roster update - done\n",
      "Week 10 roster update - done\n",
      "Week 11 roster update - done\n",
      "Week 12 roster update - done\n",
      "Week 13 roster update - done\n",
      "Week 14 roster update - done\n",
      "Week 15 roster update - done\n",
      "Week 16 roster update - done\n",
      "Week 17 roster update - done\n",
      "Rosters update - Done\n",
      "Update Complete\n"
     ]
    }
   ],
   "source": [
    "#%run fantasy_stats.py"
   ]
  },
  {
   "cell_type": "code",
   "execution_count": 2,
   "id": "cef37186",
   "metadata": {
    "vscode": {
     "languageId": "powershell"
    }
   },
   "outputs": [
    {
     "name": "stdout",
     "output_type": "stream",
     "text": [
      "Collecting yahoo_fantasy_api\n",
      "  Downloading yahoo_fantasy_api-2.12.0.tar.gz (25 kB)\n",
      "  Installing build dependencies: started\n",
      "  Installing build dependencies: finished with status 'done'\n",
      "  Getting requirements to build wheel: started\n",
      "  Getting requirements to build wheel: finished with status 'done'\n",
      "  Installing backend dependencies: started\n",
      "  Installing backend dependencies: finished with status 'done'\n",
      "  Preparing metadata (pyproject.toml): started\n",
      "  Preparing metadata (pyproject.toml): finished with status 'done'\n",
      "Collecting objectpath (from yahoo_fantasy_api)\n",
      "  Downloading objectpath-0.6.1-py2.py3-none-any.whl.metadata (4.0 kB)\n",
      "Requirement already satisfied: pytz in c:\\users\\aidan\\appdata\\local\\packages\\pythonsoftwarefoundation.python.3.11_qbz5n2kfra8p0\\localcache\\local-packages\\python311\\site-packages (from yahoo_fantasy_api) (2025.2)\n",
      "Requirement already satisfied: yahoo_oauth in c:\\users\\aidan\\appdata\\local\\packages\\pythonsoftwarefoundation.python.3.11_qbz5n2kfra8p0\\localcache\\local-packages\\python311\\site-packages (from yahoo_fantasy_api) (2.1.1)\n",
      "Collecting docopt (from yahoo_fantasy_api)\n",
      "  Downloading docopt-0.6.2.tar.gz (25 kB)\n",
      "  Installing build dependencies: started\n",
      "  Installing build dependencies: finished with status 'done'\n",
      "  Getting requirements to build wheel: started\n",
      "  Getting requirements to build wheel: finished with status 'done'\n",
      "  Preparing metadata (pyproject.toml): started\n",
      "  Preparing metadata (pyproject.toml): finished with status 'done'\n",
      "Requirement already satisfied: myql<2.0.0,>=1.2.7 in c:\\users\\aidan\\appdata\\local\\packages\\pythonsoftwarefoundation.python.3.11_qbz5n2kfra8p0\\localcache\\local-packages\\python311\\site-packages (from yahoo_oauth->yahoo_fantasy_api) (1.2.7)\n",
      "Requirement already satisfied: pyaml<25.0.0,>=24.4.0 in c:\\users\\aidan\\appdata\\local\\packages\\pythonsoftwarefoundation.python.3.11_qbz5n2kfra8p0\\localcache\\local-packages\\python311\\site-packages (from yahoo_oauth->yahoo_fantasy_api) (24.12.1)\n",
      "Requirement already satisfied: rauth<0.8.0,>=0.7.3 in c:\\users\\aidan\\appdata\\local\\packages\\pythonsoftwarefoundation.python.3.11_qbz5n2kfra8p0\\localcache\\local-packages\\python311\\site-packages (from yahoo_oauth->yahoo_fantasy_api) (0.7.3)\n",
      "Requirement already satisfied: oauthlib>=0.7.2 in c:\\users\\aidan\\appdata\\local\\packages\\pythonsoftwarefoundation.python.3.11_qbz5n2kfra8p0\\localcache\\local-packages\\python311\\site-packages (from myql<2.0.0,>=1.2.7->yahoo_oauth->yahoo_fantasy_api) (3.3.1)\n",
      "Requirement already satisfied: requests-oauthlib>=0.4.2 in c:\\users\\aidan\\appdata\\local\\packages\\pythonsoftwarefoundation.python.3.11_qbz5n2kfra8p0\\localcache\\local-packages\\python311\\site-packages (from myql<2.0.0,>=1.2.7->yahoo_oauth->yahoo_fantasy_api) (2.0.0)\n",
      "Requirement already satisfied: requests>=2.7.0 in c:\\users\\aidan\\appdata\\local\\packages\\pythonsoftwarefoundation.python.3.11_qbz5n2kfra8p0\\localcache\\local-packages\\python311\\site-packages (from myql<2.0.0,>=1.2.7->yahoo_oauth->yahoo_fantasy_api) (2.32.4)\n",
      "Requirement already satisfied: six>=1.9.0 in c:\\users\\aidan\\appdata\\local\\packages\\pythonsoftwarefoundation.python.3.11_qbz5n2kfra8p0\\localcache\\local-packages\\python311\\site-packages (from myql<2.0.0,>=1.2.7->yahoo_oauth->yahoo_fantasy_api) (1.17.0)\n",
      "Requirement already satisfied: PyYAML in c:\\users\\aidan\\appdata\\local\\packages\\pythonsoftwarefoundation.python.3.11_qbz5n2kfra8p0\\localcache\\local-packages\\python311\\site-packages (from pyaml<25.0.0,>=24.4.0->yahoo_oauth->yahoo_fantasy_api) (6.0.2)\n",
      "Requirement already satisfied: charset_normalizer<4,>=2 in c:\\users\\aidan\\appdata\\local\\packages\\pythonsoftwarefoundation.python.3.11_qbz5n2kfra8p0\\localcache\\local-packages\\python311\\site-packages (from requests>=2.7.0->myql<2.0.0,>=1.2.7->yahoo_oauth->yahoo_fantasy_api) (3.4.2)\n",
      "Requirement already satisfied: idna<4,>=2.5 in c:\\users\\aidan\\appdata\\local\\packages\\pythonsoftwarefoundation.python.3.11_qbz5n2kfra8p0\\localcache\\local-packages\\python311\\site-packages (from requests>=2.7.0->myql<2.0.0,>=1.2.7->yahoo_oauth->yahoo_fantasy_api) (3.10)\n",
      "Requirement already satisfied: urllib3<3,>=1.21.1 in c:\\users\\aidan\\appdata\\local\\packages\\pythonsoftwarefoundation.python.3.11_qbz5n2kfra8p0\\localcache\\local-packages\\python311\\site-packages (from requests>=2.7.0->myql<2.0.0,>=1.2.7->yahoo_oauth->yahoo_fantasy_api) (2.5.0)\n",
      "Requirement already satisfied: certifi>=2017.4.17 in c:\\users\\aidan\\appdata\\local\\packages\\pythonsoftwarefoundation.python.3.11_qbz5n2kfra8p0\\localcache\\local-packages\\python311\\site-packages (from requests>=2.7.0->myql<2.0.0,>=1.2.7->yahoo_oauth->yahoo_fantasy_api) (2025.7.9)\n",
      "Downloading objectpath-0.6.1-py2.py3-none-any.whl (20 kB)\n",
      "Building wheels for collected packages: yahoo_fantasy_api, docopt\n",
      "  Building wheel for yahoo_fantasy_api (pyproject.toml): started\n",
      "  Building wheel for yahoo_fantasy_api (pyproject.toml): finished with status 'done'\n",
      "  Created wheel for yahoo_fantasy_api: filename=yahoo_fantasy_api-2.12.0-py3-none-any.whl size=28457 sha256=e0ac7c7222ef6e0656fca2312d753bdf3f3508e1290cbe28dfa78d7fa3739351\n",
      "  Stored in directory: c:\\users\\aidan\\appdata\\local\\pip\\cache\\wheels\\93\\b3\\af\\a3c3046ad78fac5915af6447b9fdd9ee5ef36e6f009f96e259\n",
      "  Building wheel for docopt (pyproject.toml): started\n",
      "  Building wheel for docopt (pyproject.toml): finished with status 'done'\n",
      "  Created wheel for docopt: filename=docopt-0.6.2-py2.py3-none-any.whl size=13858 sha256=66322c6837a84f6f5575b8ced8cd173057703af33e5a6364055317aa1c329fcb\n",
      "  Stored in directory: c:\\users\\aidan\\appdata\\local\\pip\\cache\\wheels\\1a\\b0\\8c\\4b75c4116c31f83c8f9f047231251e13cc74481cca4a78a9ce\n",
      "Successfully built yahoo_fantasy_api docopt\n",
      "Installing collected packages: objectpath, docopt, yahoo_fantasy_api\n",
      "Successfully installed docopt-0.6.2 objectpath-0.6.1 yahoo_fantasy_api-2.12.0\n",
      "Note: you may need to restart the kernel to use updated packages.\n"
     ]
    },
    {
     "name": "stderr",
     "output_type": "stream",
     "text": [
      "\n",
      "[notice] A new release of pip is available: 24.0 -> 25.1.1\n",
      "[notice] To update, run: C:\\Users\\aidan\\AppData\\Local\\Microsoft\\WindowsApps\\PythonSoftwareFoundation.Python.3.11_qbz5n2kfra8p0\\python.exe -m pip install --upgrade pip\n"
     ]
    }
   ],
   "source": [
    "pip install yahoo_fantasy_api"
   ]
  },
  {
   "cell_type": "code",
   "execution_count": 17,
   "id": "68aed04c",
   "metadata": {},
   "outputs": [],
   "source": [
    "from yahoo_fantasy_api import League, Team\n",
    "from yahoo_oauth import OAuth2"
   ]
  },
  {
   "cell_type": "code",
   "execution_count": 10,
   "id": "7535d3da",
   "metadata": {},
   "outputs": [
    {
     "name": "stderr",
     "output_type": "stream",
     "text": [
      "[2025-07-15 11:16:14,914 DEBUG] [yahoo_oauth.oauth.__init__] Checking \n",
      "[2025-07-15 11:16:14,915 DEBUG] [yahoo_oauth.oauth.token_is_valid] ELAPSED TIME : 329.7734444141388\n",
      "[2025-07-15 11:16:14,915 DEBUG] [yahoo_oauth.oauth.token_is_valid] TOKEN IS STILL VALID\n"
     ]
    }
   ],
   "source": [
    "oauth = OAuth2(None, None, from_file='./auth/oauth2yahoo.json')\n",
    "league = League(oauth, league_id='461.l.6288')"
   ]
  },
  {
   "cell_type": "code",
   "execution_count": 22,
   "id": "0caa599a",
   "metadata": {},
   "outputs": [
    {
     "ename": "AttributeError",
     "evalue": "'League' object has no attribute 'rosters'",
     "output_type": "error",
     "traceback": [
      "\u001b[31m---------------------------------------------------------------------------\u001b[39m",
      "\u001b[31mAttributeError\u001b[39m                            Traceback (most recent call last)",
      "\u001b[36mCell\u001b[39m\u001b[36m \u001b[39m\u001b[32mIn[22]\u001b[39m\u001b[32m, line 1\u001b[39m\n\u001b[32m----> \u001b[39m\u001b[32m1\u001b[39m roster = \u001b[43mleague\u001b[49m\u001b[43m.\u001b[49m\u001b[43mrosters\u001b[49m()\n",
      "\u001b[31mAttributeError\u001b[39m: 'League' object has no attribute 'rosters'"
     ]
    }
   ],
   "source": [
    "roster = league.rosters()"
   ]
  },
  {
   "cell_type": "code",
   "execution_count": 18,
   "id": "37e582b6",
   "metadata": {},
   "outputs": [],
   "source": [
    "team = Team(oauth, team_key=\"461.l.6288.t.7\")"
   ]
  },
  {
   "cell_type": "code",
   "execution_count": 19,
   "id": "4dd1f457",
   "metadata": {},
   "outputs": [
    {
     "data": {
      "text/plain": [
       "{'team_key': '461.l.6288.t.7',\n",
       " 'team_id': '7',\n",
       " 'name': 'Milwaukee Millies',\n",
       " 'is_owned_by_current_login': 1,\n",
       " 'url': 'https://football.fantasysports.yahoo.com/f1/6288/7',\n",
       " 'team_logos': [{'team_logo': {'size': 'large',\n",
       "    'url': 'https://yahoofantasysports-res.cloudinary.com/image/upload/t_s192sq/fantasy-logos/06430359b11625d0c85f4b3c0c9215fe7703b0ec071b49d2f932aa1c76b74cb3.jpg'}}],\n",
       " 'previous_season_team_rank': 1,\n",
       " 'division_id': '3',\n",
       " 'number_of_moves': 0,\n",
       " 'number_of_trades': 0,\n",
       " 'roster_adds': {'coverage_type': 'week', 'coverage_value': 1, 'value': '0'},\n",
       " 'league_scoring_type': 'head',\n",
       " 'has_draft_grade': 1,\n",
       " 'draft_grade': 'B',\n",
       " 'draft_recap_url': 'https://football.fantasysports.yahoo.com/f1/6288/7/draftrecap',\n",
       " 'managers': [{'manager': {'manager_id': '7',\n",
       "    'nickname': 'Aidan',\n",
       "    'guid': '4KAKNEK4VYYTC7DRQGST2OWGLE',\n",
       "    'is_current_login': '1',\n",
       "    'image_url': 'https://s.yimg.com/ag/images/default_user_profile_pic_64sq.jpg',\n",
       "    'felo_score': '734',\n",
       "    'felo_tier': 'gold'}}]}"
      ]
     },
     "execution_count": 19,
     "metadata": {},
     "output_type": "execute_result"
    }
   ],
   "source": [
    "team.details()"
   ]
  },
  {
   "cell_type": "code",
   "execution_count": 21,
   "id": "35b2de36",
   "metadata": {},
   "outputs": [
    {
     "data": {
      "text/plain": [
       "[{'player_id': 29235,\n",
       "  'name': 'Jared Goff',\n",
       "  'status': '',\n",
       "  'position_type': 'O',\n",
       "  'eligible_positions': ['QB'],\n",
       "  'selected_position': 'QB'},\n",
       " {'player_id': 33393,\n",
       "  'name': \"Ja'Marr Chase\",\n",
       "  'status': '',\n",
       "  'position_type': 'O',\n",
       "  'eligible_positions': ['WR', 'W/R', 'W/R/T'],\n",
       "  'selected_position': 'WR'},\n",
       " {'player_id': 30994,\n",
       "  'name': 'DJ Moore',\n",
       "  'status': '',\n",
       "  'position_type': 'O',\n",
       "  'eligible_positions': ['WR', 'W/R', 'W/R/T'],\n",
       "  'selected_position': 'WR'},\n",
       " {'player_id': 30972,\n",
       "  'name': 'Saquon Barkley',\n",
       "  'status': '',\n",
       "  'position_type': 'O',\n",
       "  'eligible_positions': ['RB', 'W/R', 'W/R/T'],\n",
       "  'selected_position': 'RB'},\n",
       " {'player_id': 30218,\n",
       "  'name': 'James Conner',\n",
       "  'status': '',\n",
       "  'position_type': 'O',\n",
       "  'eligible_positions': ['RB', 'W/R', 'W/R/T'],\n",
       "  'selected_position': 'RB'},\n",
       " {'player_id': 34085,\n",
       "  'name': 'Jake Ferguson',\n",
       "  'status': '',\n",
       "  'position_type': 'O',\n",
       "  'eligible_positions': ['TE', 'W/R/T'],\n",
       "  'selected_position': 'TE'},\n",
       " {'player_id': 40042,\n",
       "  'name': 'Jordan Addison',\n",
       "  'status': '',\n",
       "  'position_type': 'O',\n",
       "  'eligible_positions': ['WR', 'W/R', 'W/R/T'],\n",
       "  'selected_position': 'W/R'},\n",
       " {'player_id': 40063,\n",
       "  'name': 'Jayden Reed',\n",
       "  'status': '',\n",
       "  'position_type': 'O',\n",
       "  'eligible_positions': ['WR', 'W/R', 'W/R/T'],\n",
       "  'selected_position': 'W/R/T'},\n",
       " {'player_id': 40900,\n",
       "  'name': 'Caleb Williams',\n",
       "  'status': '',\n",
       "  'position_type': 'O',\n",
       "  'eligible_positions': ['QB'],\n",
       "  'selected_position': 'BN'},\n",
       " {'player_id': 40119,\n",
       "  'name': 'Tyjae Spears',\n",
       "  'status': '',\n",
       "  'position_type': 'O',\n",
       "  'eligible_positions': ['RB', 'W/R', 'W/R/T'],\n",
       "  'selected_position': 'BN'},\n",
       " {'player_id': 31017,\n",
       "  'name': 'Christian Kirk',\n",
       "  'status': '',\n",
       "  'position_type': 'O',\n",
       "  'eligible_positions': ['WR', 'W/R', 'W/R/T'],\n",
       "  'selected_position': 'BN'},\n",
       " {'player_id': 33113,\n",
       "  'name': 'Juwan Johnson',\n",
       "  'status': '',\n",
       "  'position_type': 'O',\n",
       "  'eligible_positions': ['TE', 'W/R/T'],\n",
       "  'selected_position': 'BN'},\n",
       " {'player_id': 40819,\n",
       "  'name': 'Brandon Aubrey',\n",
       "  'status': 'Q',\n",
       "  'position_type': 'K',\n",
       "  'eligible_positions': ['K'],\n",
       "  'selected_position': 'K'},\n",
       " {'player_id': 30266,\n",
       "  'name': 'Jake Elliott',\n",
       "  'status': '',\n",
       "  'position_type': 'K',\n",
       "  'eligible_positions': ['K'],\n",
       "  'selected_position': 'BN'},\n",
       " {'player_id': 100012,\n",
       "  'name': 'Kansas City',\n",
       "  'status': '',\n",
       "  'position_type': 'DT',\n",
       "  'eligible_positions': ['DEF'],\n",
       "  'selected_position': 'DEF'},\n",
       " {'player_id': 30981,\n",
       "  'name': 'Minkah Fitzpatrick',\n",
       "  'status': '',\n",
       "  'position_type': 'DP',\n",
       "  'eligible_positions': ['DB'],\n",
       "  'selected_position': 'DB'},\n",
       " {'player_id': 31938,\n",
       "  'name': 'Maxx Crosby',\n",
       "  'status': '',\n",
       "  'position_type': 'DP',\n",
       "  'eligible_positions': ['DL'],\n",
       "  'selected_position': 'DL'},\n",
       " {'player_id': 32744,\n",
       "  'name': 'Zack Baun',\n",
       "  'status': '',\n",
       "  'position_type': 'DP',\n",
       "  'eligible_positions': ['LB'],\n",
       "  'selected_position': 'LB'},\n",
       " {'player_id': 31835,\n",
       "  'name': 'Quinnen Williams',\n",
       "  'status': 'Q',\n",
       "  'position_type': 'DP',\n",
       "  'eligible_positions': ['DL'],\n",
       "  'selected_position': 'BN'}]"
      ]
     },
     "execution_count": 21,
     "metadata": {},
     "output_type": "execute_result"
    }
   ],
   "source": [
    "team.roster()"
   ]
  },
  {
   "cell_type": "code",
   "execution_count": 25,
   "id": "57f0680a",
   "metadata": {},
   "outputs": [
    {
     "data": {
      "text/plain": [
       "[{'display_name': 'Pass Yds', 'position_type': 'O'},\n",
       " {'display_name': 'Pass TD', 'position_type': 'O'},\n",
       " {'display_name': 'Int', 'position_type': 'O'},\n",
       " {'display_name': 'Rush Yds', 'position_type': 'O'},\n",
       " {'display_name': 'Rush TD', 'position_type': 'O'},\n",
       " {'display_name': 'Rec', 'position_type': 'O'},\n",
       " {'display_name': 'Rec Yds', 'position_type': 'O'},\n",
       " {'display_name': 'Rec TD', 'position_type': 'O'},\n",
       " {'display_name': 'Ret Yds', 'position_type': 'O'},\n",
       " {'display_name': 'Ret TD', 'position_type': 'O'},\n",
       " {'display_name': '2-PT', 'position_type': 'O'},\n",
       " {'display_name': 'Fum Lost', 'position_type': 'O'},\n",
       " {'display_name': 'Fum Ret TD', 'position_type': 'O'},\n",
       " {'display_name': 'FG 0-19', 'position_type': 'K'},\n",
       " {'display_name': 'FG 20-29', 'position_type': 'K'},\n",
       " {'display_name': 'FG 30-39', 'position_type': 'K'},\n",
       " {'display_name': 'FG 40-49', 'position_type': 'K'},\n",
       " {'display_name': 'FG 50+', 'position_type': 'K'},\n",
       " {'display_name': 'PAT Made', 'position_type': 'K'},\n",
       " {'display_name': 'Sack', 'position_type': 'DT'},\n",
       " {'display_name': 'Int', 'position_type': 'DT'},\n",
       " {'display_name': 'Fum Rec', 'position_type': 'DT'},\n",
       " {'display_name': 'TD', 'position_type': 'DT'},\n",
       " {'display_name': 'Safe', 'position_type': 'DT'},\n",
       " {'display_name': 'Blk Kick', 'position_type': 'DT'},\n",
       " {'display_name': 'Ret Yds', 'position_type': 'DT'},\n",
       " {'display_name': 'Ret TD', 'position_type': 'DT'},\n",
       " {'display_name': 'TFL', 'position_type': 'DT'},\n",
       " {'display_name': '3 and Outs', 'position_type': 'DT'},\n",
       " {'display_name': 'Pts Allow 0', 'position_type': 'DT'},\n",
       " {'display_name': 'Pts Allow 1-6', 'position_type': 'DT'},\n",
       " {'display_name': 'Pts Allow 7-13', 'position_type': 'DT'},\n",
       " {'display_name': 'Pts Allow 14-20', 'position_type': 'DT'},\n",
       " {'display_name': 'Pts Allow 21-27', 'position_type': 'DT'},\n",
       " {'display_name': 'Pts Allow 28-34', 'position_type': 'DT'},\n",
       " {'display_name': 'Pts Allow 35+', 'position_type': 'DT'},\n",
       " {'display_name': 'Yds Allow Neg', 'position_type': 'DT'},\n",
       " {'display_name': 'Yds Allow 0-99', 'position_type': 'DT'},\n",
       " {'display_name': 'Yds Allow 100-199', 'position_type': 'DT'},\n",
       " {'display_name': 'Yds Allow 200-299', 'position_type': 'DT'},\n",
       " {'display_name': 'Yds Allow 300-399', 'position_type': 'DT'},\n",
       " {'display_name': 'Yds Allow 400-499', 'position_type': 'DT'},\n",
       " {'display_name': 'Yds Allow 500+', 'position_type': 'DT'},\n",
       " {'display_name': 'XPR', 'position_type': 'DT'},\n",
       " {'display_name': 'Tack Solo', 'position_type': 'DP'},\n",
       " {'display_name': 'Tack Ast', 'position_type': 'DP'},\n",
       " {'display_name': 'Sack', 'position_type': 'DP'},\n",
       " {'display_name': 'Int', 'position_type': 'DP'},\n",
       " {'display_name': 'Fum Force', 'position_type': 'DP'},\n",
       " {'display_name': 'Fum Rec', 'position_type': 'DP'},\n",
       " {'display_name': 'TD', 'position_type': 'DP'},\n",
       " {'display_name': 'Safe', 'position_type': 'DP'},\n",
       " {'display_name': 'Pass Def', 'position_type': 'DP'},\n",
       " {'display_name': 'TFL', 'position_type': 'DP'},\n",
       " {'display_name': 'TO Ret Yds', 'position_type': 'DP'}]"
      ]
     },
     "execution_count": 25,
     "metadata": {},
     "output_type": "execute_result"
    }
   ],
   "source": [
    "league.stat_categories()"
   ]
  },
  {
   "cell_type": "code",
   "execution_count": 28,
   "id": "de79ef3e",
   "metadata": {},
   "outputs": [
    {
     "data": {
      "text/plain": [
       "[{'player_id': 29235,\n",
       "  'name': 'Jared Goff',\n",
       "  'position_type': 'O',\n",
       "  'Pass Yds': 4629.0,\n",
       "  'Pass TD': 37.0,\n",
       "  'Int': 12.0,\n",
       "  'Rush Att': 35.0,\n",
       "  'Rush Yds': 56.0,\n",
       "  'Rush TD': 0.0,\n",
       "  'Rec': 1.0,\n",
       "  'Rec Yds': 7.0,\n",
       "  'Rec TD': 1.0,\n",
       "  'Ret Yds': 0.0,\n",
       "  'Ret TD': 0.0,\n",
       "  '2-PT': 1.0,\n",
       "  'Fum Lost': 0.0,\n",
       "  'Targets': 1.0,\n",
       "  'Fum Ret TD': 0.0,\n",
       "  'total_points': '399.96'},\n",
       " {'player_id': 33393,\n",
       "  'name': \"Ja'Marr Chase\",\n",
       "  'position_type': 'O',\n",
       "  'Pass Yds': 0.0,\n",
       "  'Pass TD': 0.0,\n",
       "  'Int': 0.0,\n",
       "  'Rush Att': 3.0,\n",
       "  'Rush Yds': 32.0,\n",
       "  'Rush TD': 0.0,\n",
       "  'Rec': 127.0,\n",
       "  'Rec Yds': 1708.0,\n",
       "  'Rec TD': 17.0,\n",
       "  'Ret Yds': 0.0,\n",
       "  'Ret TD': 0.0,\n",
       "  '2-PT': 0.0,\n",
       "  'Fum Lost': 0.0,\n",
       "  'Targets': 175.0,\n",
       "  'Fum Ret TD': 0.0,\n",
       "  'total_points': '409.00'}]"
      ]
     },
     "execution_count": 28,
     "metadata": {},
     "output_type": "execute_result"
    }
   ],
   "source": [
    "league.player_stats([29235, 33393], req_type='season', season=2024)"
   ]
  },
  {
   "cell_type": "code",
   "execution_count": null,
   "id": "94267002",
   "metadata": {},
   "outputs": [],
   "source": []
  }
 ],
 "metadata": {
  "kernelspec": {
   "display_name": "Python 3",
   "language": "python",
   "name": "python3"
  },
  "language_info": {
   "codemirror_mode": {
    "name": "ipython",
    "version": 3
   },
   "file_extension": ".py",
   "mimetype": "text/x-python",
   "name": "python",
   "nbconvert_exporter": "python",
   "pygments_lexer": "ipython3",
   "version": "3.11.9"
  }
 },
 "nbformat": 4,
 "nbformat_minor": 5
}
