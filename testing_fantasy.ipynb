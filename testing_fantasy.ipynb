{
 "cells": [
  {
   "cell_type": "code",
   "execution_count": 1,
   "id": "9a40adce",
   "metadata": {},
   "outputs": [
    {
     "name": "stderr",
     "output_type": "stream",
     "text": [
      "[2025-07-15 00:29:35,008 DEBUG] [yahoo_oauth.oauth.__init__] Checking \n",
      "[2025-07-15 00:29:35,009 DEBUG] [yahoo_oauth.oauth.token_is_valid] ELAPSED TIME : 288963.7612001896\n",
      "[2025-07-15 00:29:35,009 DEBUG] [yahoo_oauth.oauth.token_is_valid] TOKEN HAS EXPIRED\n",
      "[2025-07-15 00:29:35,009 DEBUG] [yahoo_oauth.oauth.refresh_access_token] REFRESHING TOKEN\n",
      "[2025-07-15 00:29:35,147 DEBUG] [yahoo_oauth.oauth.token_is_valid] ELAPSED TIME : 0.13712549209594727\n",
      "[2025-07-15 00:29:35,148 DEBUG] [yahoo_oauth.oauth.token_is_valid] TOKEN IS STILL VALID\n",
      "[2025-07-15 00:29:35,514 DEBUG] [yahoo_oauth.oauth.__init__] Checking \n",
      "[2025-07-15 00:29:35,521 DEBUG] [yahoo_oauth.oauth.token_is_valid] ELAPSED TIME : 0.5104634761810303\n",
      "[2025-07-15 00:29:35,522 DEBUG] [yahoo_oauth.oauth.token_is_valid] TOKEN IS STILL VALID\n",
      "[2025-07-15 00:29:35,523 DEBUG] [yahoo_oauth.oauth.token_is_valid] ELAPSED TIME : 0.5124657154083252\n",
      "[2025-07-15 00:29:35,523 DEBUG] [yahoo_oauth.oauth.token_is_valid] TOKEN IS STILL VALID\n"
     ]
    },
    {
     "name": "stdout",
     "output_type": "stream",
     "text": [
      "Yahoo League Info Updated\n"
     ]
    },
    {
     "name": "stderr",
     "output_type": "stream",
     "text": [
      "[2025-07-15 00:29:35,846 DEBUG] [yahoo_oauth.oauth.__init__] Checking \n",
      "[2025-07-15 00:29:35,847 DEBUG] [yahoo_oauth.oauth.token_is_valid] ELAPSED TIME : 0.836759090423584\n",
      "[2025-07-15 00:29:35,848 DEBUG] [yahoo_oauth.oauth.token_is_valid] TOKEN IS STILL VALID\n",
      "[2025-07-15 00:29:35,849 DEBUG] [yahoo_oauth.oauth.token_is_valid] ELAPSED TIME : 0.8387620449066162\n",
      "[2025-07-15 00:29:35,849 DEBUG] [yahoo_oauth.oauth.token_is_valid] TOKEN IS STILL VALID\n"
     ]
    },
    {
     "name": "stdout",
     "output_type": "stream",
     "text": [
      "League update - Done\n"
     ]
    },
    {
     "name": "stderr",
     "output_type": "stream",
     "text": [
      "[2025-07-15 00:29:36,204 DEBUG] [yahoo_oauth.oauth.__init__] Checking \n",
      "[2025-07-15 00:29:36,205 DEBUG] [yahoo_oauth.oauth.token_is_valid] ELAPSED TIME : 1.1950843334197998\n",
      "[2025-07-15 00:29:36,205 DEBUG] [yahoo_oauth.oauth.token_is_valid] TOKEN IS STILL VALID\n",
      "[2025-07-15 00:29:36,206 DEBUG] [yahoo_oauth.oauth.token_is_valid] ELAPSED TIME : 1.196084976196289\n",
      "[2025-07-15 00:29:36,207 DEBUG] [yahoo_oauth.oauth.token_is_valid] TOKEN IS STILL VALID\n"
     ]
    },
    {
     "name": "stdout",
     "output_type": "stream",
     "text": [
      "Standings update - Done\n"
     ]
    },
    {
     "name": "stderr",
     "output_type": "stream",
     "text": [
      "[2025-07-15 00:29:40,094 DEBUG] [yahoo_oauth.oauth.__init__] Checking \n",
      "[2025-07-15 00:29:40,095 DEBUG] [yahoo_oauth.oauth.token_is_valid] ELAPSED TIME : 5.085164546966553\n",
      "[2025-07-15 00:29:40,095 DEBUG] [yahoo_oauth.oauth.token_is_valid] TOKEN IS STILL VALID\n",
      "[2025-07-15 00:29:40,096 DEBUG] [yahoo_oauth.oauth.token_is_valid] ELAPSED TIME : 5.086165189743042\n",
      "[2025-07-15 00:29:40,097 DEBUG] [yahoo_oauth.oauth.token_is_valid] TOKEN IS STILL VALID\n"
     ]
    },
    {
     "name": "stdout",
     "output_type": "stream",
     "text": [
      "Scoreboards update - Done\n"
     ]
    },
    {
     "name": "stderr",
     "output_type": "stream",
     "text": [
      "[2025-07-15 00:29:40,460 DEBUG] [yahoo_oauth.oauth.__init__] Checking \n",
      "[2025-07-15 00:29:40,461 DEBUG] [yahoo_oauth.oauth.token_is_valid] ELAPSED TIME : 5.450535535812378\n",
      "[2025-07-15 00:29:40,462 DEBUG] [yahoo_oauth.oauth.token_is_valid] TOKEN IS STILL VALID\n",
      "[2025-07-15 00:29:40,463 DEBUG] [yahoo_oauth.oauth.token_is_valid] ELAPSED TIME : 5.452537536621094\n",
      "[2025-07-15 00:29:40,463 DEBUG] [yahoo_oauth.oauth.token_is_valid] TOKEN IS STILL VALID\n"
     ]
    },
    {
     "name": "stdout",
     "output_type": "stream",
     "text": [
      "Transactions update - Done\n",
      "Week 1 roster update - done\n",
      "Week 2 roster update - done\n",
      "Week 3 roster update - done\n",
      "Week 4 roster update - done\n",
      "Week 5 roster update - done\n",
      "Week 6 roster update - done\n",
      "Week 7 roster update - done\n",
      "Week 8 roster update - done\n",
      "Week 9 roster update - done\n",
      "Week 10 roster update - done\n",
      "Week 11 roster update - done\n",
      "Week 12 roster update - done\n",
      "Week 13 roster update - done\n",
      "Week 14 roster update - done\n",
      "Week 15 roster update - done\n",
      "Week 16 roster update - done\n",
      "Week 17 roster update - done\n",
      "Rosters update - Done\n",
      "Update Complete\n"
     ]
    }
   ],
   "source": [
    "%run fantasy_stats.py"
   ]
  },
  {
   "cell_type": "code",
   "execution_count": null,
   "id": "68aed04c",
   "metadata": {},
   "outputs": [],
   "source": []
  }
 ],
 "metadata": {
  "kernelspec": {
   "display_name": "Python 3",
   "language": "python",
   "name": "python3"
  },
  "language_info": {
   "codemirror_mode": {
    "name": "ipython",
    "version": 3
   },
   "file_extension": ".py",
   "mimetype": "text/x-python",
   "name": "python",
   "nbconvert_exporter": "python",
   "pygments_lexer": "ipython3",
   "version": "3.11.9"
  }
 },
 "nbformat": 4,
 "nbformat_minor": 5
}
